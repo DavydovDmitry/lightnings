{
 "cells": [
  {
   "cell_type": "code",
   "execution_count": 212,
   "metadata": {},
   "outputs": [],
   "source": [
    "import json\n",
    "import re\n",
    "import hashlib\n",
    "\n",
    "import requests\n",
    "from bs4 import BeautifulSoup"
   ]
  },
  {
   "cell_type": "code",
   "execution_count": 213,
   "metadata": {},
   "outputs": [],
   "source": [
    "images = set()"
   ]
  },
  {
   "cell_type": "code",
   "execution_count": 214,
   "metadata": {},
   "outputs": [],
   "source": [
    "user_agent = 'Mozilla/5.0 (Linux; Android 6.0; Nexus 5 Build/MRA58N) AppleWebKit/537.36 (KHTML, like Gecko) Chrome/74.0.3729.131 Mobile Safari/537.36'"
   ]
  },
  {
   "cell_type": "code",
   "execution_count": 215,
   "metadata": {},
   "outputs": [],
   "source": [
    "session = requests.Session()\n",
    "response = session.get('https://www.instagram.com/explore/tags/lightnings/')\n",
    "with open('./temp/out.html', 'w') as f:\n",
    "    f.write(response.text)"
   ]
  },
  {
   "cell_type": "code",
   "execution_count": 216,
   "metadata": {},
   "outputs": [],
   "source": [
    "match = re.findall(r'\"display_url\":\"[^\"]*', response.text)\n",
    "\n",
    "for image in match:\n",
    "    images.add(image[15:])"
   ]
  },
  {
   "cell_type": "code",
   "execution_count": 217,
   "metadata": {},
   "outputs": [
    {
     "data": {
      "text/plain": [
       "80"
      ]
     },
     "execution_count": 217,
     "metadata": {},
     "output_type": "execute_result"
    }
   ],
   "source": [
    "len(images)"
   ]
  },
  {
   "cell_type": "code",
   "execution_count": 218,
   "metadata": {},
   "outputs": [],
   "source": [
    "match = re.search(\n",
    "    r\"<script[^>]*>\\s*window._sharedData\\s*=\\s*((?!<script>).*)\\s*;\\s*</script>\",\n",
    "    response.text,\n",
    ")"
   ]
  },
  {
   "cell_type": "code",
   "execution_count": 219,
   "metadata": {},
   "outputs": [],
   "source": [
    "sharedData = json.loads(match.group(1))\n",
    "\n",
    "entry_data = sharedData['entry_data']\n",
    "page_info = entry_data['TagPage'][0]['graphql']['hashtag']['edge_hashtag_to_media']['page_info']\n",
    "end_cursor = page_info['end_cursor']\n",
    "var_id = entry_data['TagPage'][0]['graphql']['hashtag']['id']\n",
    "\n",
    "rhx_gis = sharedData['rhx_gis']\n",
    "\n",
    "csrf_token = sharedData['config']['csrf_token']"
   ]
  },
  {
   "cell_type": "code",
   "execution_count": 220,
   "metadata": {},
   "outputs": [
    {
     "data": {
      "text/plain": [
       "Cookie(version=0, name='csrftoken', value='EF5S2ZTlMpT7eA4y8cjl93FaN19UmqJm', port=None, port_specified=False, domain='', domain_specified=False, domain_initial_dot=False, path='/', path_specified=True, secure=False, expires=None, discard=True, comment=None, comment_url=None, rest={'HttpOnly': None}, rfc2109=False)"
      ]
     },
     "execution_count": 220,
     "metadata": {},
     "output_type": "execute_result"
    }
   ],
   "source": [
    "variables = {\n",
    "            #'id': var_id,\n",
    "            'after': end_cursor,\n",
    "            'first': 10\n",
    "}\n",
    "variables = json.dumps(variables)\n",
    "\n",
    "values = \"%s:%s\" % (rhx_gis, variables)\n",
    "x_instagram_gis = hashlib.md5(values.encode('utf-8')).hexdigest()\n",
    "    \n",
    "settings = {\n",
    "    \"params\": {\n",
    "        \"variables\": variables\n",
    "    }\n",
    "}     \n",
    "settings['headers'] = {\n",
    "    'User-Agent': user_agent,\n",
    "    \"X-Requested-With\": \"XMLHttpRequest\",\n",
    "    'X-Instagram-GIS': x_instagram_gis,\n",
    "    'User-Agent': user_agent,\n",
    "    'access_token': csrf_token\n",
    "}\n",
    "session.cookies.set('csrftoken', csrf_token)"
   ]
  },
  {
   "cell_type": "code",
   "execution_count": 221,
   "metadata": {},
   "outputs": [
    {
     "data": {
      "text/plain": [
       "80"
      ]
     },
     "execution_count": 221,
     "metadata": {},
     "output_type": "execute_result"
    }
   ],
   "source": [
    "response = session.get('https://www.instagram.com/explore/tags/lightnings/', **settings)\n",
    "\n",
    "match = re.findall(r'\"display_url\":\"[^\"]*', response.text)\n",
    "for image in match:\n",
    "    images.add(image[15:])\n",
    "len(images)"
   ]
  },
  {
   "cell_type": "markdown",
   "metadata": {},
   "source": [
    "_sharedData = responce.text[responce.text.find('window._sharedData'):]\n",
    "config = '{\"' + _sharedData[_sharedData.find('config'):].split('}', maxsplit=1)[0] + '}}'\n",
    "csrf_token = json.loads(config)['config']['csrf_token']\n",
    "\n",
    "responce = requests.get('https://www.instagram.com/explore/tags/lightnings/', data={'csrfmiddlewaretoken':csrf_token})\n",
    "with open('out_token.html', 'w') as f:\n",
    "    f.write(responce.text)\n",
    "soup = BeautifulSoup(responce.text, 'html.parser')\n",
    "soup"
   ]
  }
 ],
 "metadata": {
  "kernelspec": {
   "display_name": "general",
   "language": "python",
   "name": "general"
  },
  "language_info": {
   "codemirror_mode": {
    "name": "ipython",
    "version": 3
   },
   "file_extension": ".py",
   "mimetype": "text/x-python",
   "name": "python",
   "nbconvert_exporter": "python",
   "pygments_lexer": "ipython3",
   "version": "3.7.1"
  }
 },
 "nbformat": 4,
 "nbformat_minor": 2
}
